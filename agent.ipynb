{
 "cells": [
  {
   "cell_type": "code",
   "execution_count": 1,
   "id": "initial_id",
   "metadata": {
    "ExecuteTime": {
     "end_time": "2025-10-25T19:33:50.054699Z",
     "start_time": "2025-10-25T19:33:48.569691Z"
    },
    "collapsed": true
   },
   "outputs": [],
   "source": [
    "from database import setup_database\n",
    "from tools import get_schema\n",
    "from agent import create_agent"
   ]
  },
  {
   "cell_type": "code",
   "execution_count": 2,
   "id": "e5f30f270bf238d5",
   "metadata": {
    "ExecuteTime": {
     "end_time": "2025-10-25T19:34:13.359671Z",
     "start_time": "2025-10-25T19:34:13.355211Z"
    }
   },
   "outputs": [],
   "source": [
    "conn = setup_database()\n",
    "query_history = []"
   ]
  },
  {
   "cell_type": "code",
   "execution_count": 3,
   "id": "35862703c2b94f0f",
   "metadata": {
    "ExecuteTime": {
     "end_time": "2025-10-25T19:34:13.591615Z",
     "start_time": "2025-10-25T19:34:13.582139Z"
    }
   },
   "outputs": [
    {
     "name": "stdout",
     "output_type": "stream",
     "text": [
      "[Agent] DSPy configured with gpt-4o-mini model.\n"
     ]
    }
   ],
   "source": [
    "agent = create_agent(conn, query_history)"
   ]
  },
  {
   "cell_type": "code",
   "execution_count": 4,
   "id": "a22d3ff2257f5e35",
   "metadata": {
    "ExecuteTime": {
     "end_time": "2025-10-25T19:34:15.122126Z",
     "start_time": "2025-10-25T19:34:15.119473Z"
    }
   },
   "outputs": [
    {
     "name": "stdout",
     "output_type": "stream",
     "text": [
      "   [Tool Action] Getting schema for: all tables\n"
     ]
    }
   ],
   "source": [
    "initial_schema = get_schema(conn)"
   ]
  },
  {
   "cell_type": "code",
   "execution_count": 10,
   "id": "d219e6619cbccf63",
   "metadata": {
    "ExecuteTime": {
     "end_time": "2025-10-25T19:34:24.540029Z",
     "start_time": "2025-10-25T19:34:16.693243Z"
    }
   },
   "outputs": [
    {
     "name": "stdout",
     "output_type": "stream",
     "text": [
      "   [BEGIN Tool Action] Executing SQL: SELECT p.product_name, SUM(s.amount) AS total_revenue FROM products p JOIN sales s ON p.product_id = s.product_id GROUP BY p.product_name ORDER BY total_revenue DESC [END Tool Action]\n",
      "   [Tool Action] Getting schema for: products\n",
      "   [BEGIN Tool Action] Executing SQL: SELECT p.name, SUM(s.amount) AS total_revenue FROM products p JOIN sales s ON p.id = s.product_id GROUP BY p.name ORDER BY total_revenue DESC [END Tool Action]\n",
      "   [Tool Action] Saving data to profitable_products.csv...\n"
     ]
    }
   ],
   "source": [
    "response = agent(question=\"what are the more profitable products?\", initial_schema=initial_schema)"
   ]
  },
  {
   "cell_type": "code",
   "execution_count": 11,
   "id": "b9c3a0bf7374d843",
   "metadata": {
    "ExecuteTime": {
     "end_time": "2025-10-25T19:34:25.558432Z",
     "start_time": "2025-10-25T19:34:25.555644Z"
    }
   },
   "outputs": [
    {
     "data": {
      "text/plain": [
       "'The most profitable products are as follows: \\n1. Laptop - $3650.50\\n2. Keyboard - $150.00\\n3. Mouse - $104.99\\n4. Blender - $89.90\\n5. SQL for Dummies - $35.00\\n6. Coffee Mug - $15.50\\n\\nThe data has been saved to a CSV file named \"profitable_products.csv\".'"
      ]
     },
     "execution_count": 11,
     "metadata": {},
     "output_type": "execute_result"
    }
   ],
   "source": [
    "response.answer"
   ]
  },
  {
   "cell_type": "code",
   "execution_count": 12,
   "id": "3adbb686608dc8ca",
   "metadata": {
    "ExecuteTime": {
     "end_time": "2025-10-25T19:34:33.250086Z",
     "start_time": "2025-10-25T19:34:33.247847Z"
    }
   },
   "outputs": [
    {
     "data": {
      "text/plain": [
       "['SELECT employee_id, SUM(sale_amount) AS total_sales FROM sales GROUP BY employee_id ORDER BY total_sales DESC;',\n",
       " 'SELECT employee_id, SUM(amount) AS total_sales FROM sales GROUP BY employee_id ORDER BY total_sales DESC;',\n",
       " 'SELECT p.product_name, SUM(s.amount) AS total_revenue FROM products p JOIN sales s ON p.product_id = s.product_id GROUP BY p.product_name ORDER BY total_revenue DESC',\n",
       " 'SELECT p.name, SUM(s.amount) AS total_revenue FROM products p JOIN sales s ON p.id = s.product_id GROUP BY p.name ORDER BY total_revenue DESC']"
      ]
     },
     "execution_count": 12,
     "metadata": {},
     "output_type": "execute_result"
    }
   ],
   "source": [
    "query_history"
   ]
  },
  {
   "cell_type": "code",
   "execution_count": 8,
   "id": "85e18b4c9b8bd5e4",
   "metadata": {
    "ExecuteTime": {
     "end_time": "2025-10-25T19:35:32.097586Z",
     "start_time": "2025-10-25T19:35:10.475895Z"
    }
   },
   "outputs": [
    {
     "name": "stdout",
     "output_type": "stream",
     "text": [
      "   [Tool Action] Getting schema for: employees\n",
      "   [Tool Action] Getting schema for: customers\n",
      "   [Tool Action] Getting schema for: products\n",
      "   [Tool Action] Getting schema for: sales\n",
      "   [Tool Action] Getting schema for: queries\n"
     ]
    }
   ],
   "source": [
    "response = agent(question=\"explain to me the schema of the database\", initial_schema=initial_schema)"
   ]
  },
  {
   "cell_type": "code",
   "execution_count": 9,
   "id": "d50cbaf9fd0bc14f",
   "metadata": {
    "ExecuteTime": {
     "end_time": "2025-10-25T19:35:38.569717Z",
     "start_time": "2025-10-25T19:35:38.565987Z"
    }
   },
   "outputs": [
    {
     "data": {
      "text/plain": [
       "'The schema of the database includes the following tables and their fields:\\n- **employees**: id (INTEGER), employee_name (TEXT), department (TEXT)\\n- **customers**: id (INTEGER), name (TEXT), region (TEXT)\\n- **products**: id (INTEGER), name (TEXT), category (TEXT)\\n- **sales**: id (INTEGER), product_id (INTEGER), customer_id (INTEGER), employee_id (INTEGER), amount (REAL), name (TEXT)\\n- **queries**: id (TEXT), status (TEXT), result (TEXT)'"
      ]
     },
     "execution_count": 9,
     "metadata": {},
     "output_type": "execute_result"
    }
   ],
   "source": [
    "response.answer"
   ]
  }
 ],
 "metadata": {
  "kernelspec": {
   "display_name": "topicos-ia-2do-parcial-2025",
   "language": "python",
   "name": "python3"
  },
  "language_info": {
   "codemirror_mode": {
    "name": "ipython",
    "version": 3
   },
   "file_extension": ".py",
   "mimetype": "text/x-python",
   "name": "python",
   "nbconvert_exporter": "python",
   "pygments_lexer": "ipython3",
   "version": "3.12.11"
  }
 },
 "nbformat": 4,
 "nbformat_minor": 5
}
